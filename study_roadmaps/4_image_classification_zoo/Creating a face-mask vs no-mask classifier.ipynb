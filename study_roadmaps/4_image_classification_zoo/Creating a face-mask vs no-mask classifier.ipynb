{
 "cells": [
  {
   "cell_type": "markdown",
   "metadata": {
    "colab_type": "text",
    "id": "view-in-github"
   },
   "source": [
    "<a href=\"https://colab.research.google.com/github/Tessellate-Imaging/monk_v1/blob/master/study_roadmaps/4_image_classification_zoo/Classifying%20groceries%20using%20Monk%20in%205%20steps.ipynb\" target=\"_parent\"><img src=\"https://colab.research.google.com/assets/colab-badge.svg\" alt=\"Open In Colab\"/></a>"
   ]
  },
  {
   "cell_type": "code",
   "execution_count": null,
   "metadata": {},
   "outputs": [],
   "source": []
  },
  {
   "cell_type": "code",
   "execution_count": null,
   "metadata": {},
   "outputs": [],
   "source": []
  },
  {
   "cell_type": "code",
   "execution_count": null,
   "metadata": {},
   "outputs": [],
   "source": []
  },
  {
   "cell_type": "code",
   "execution_count": null,
   "metadata": {},
   "outputs": [],
   "source": []
  },
  {
   "cell_type": "code",
   "execution_count": null,
   "metadata": {},
   "outputs": [],
   "source": []
  },
  {
   "cell_type": "markdown",
   "metadata": {},
   "source": [
    "# Table of Contents\n",
    "\n",
    "\n",
    "## [0. Install](#0)\n",
    "\n",
    "\n",
    "## [1. Importing mxnet-gluoncv backend](#1)\n",
    "\n",
    "\n",
    "## [2. Creating and Managing experiments](#2)\n",
    "\n",
    "\n",
    "## [3. Set dataset and select the model](#3)\n",
    "\n",
    "\n",
    "## [4. See what other models Monk's mxnet backend supports](#4)\n",
    "\n",
    "\n",
    "## [5. Train the classifier](#5)\n",
    "\n",
    "\n",
    "## [6. Running inference on test images](#6)"
   ]
  },
  {
   "cell_type": "code",
   "execution_count": null,
   "metadata": {},
   "outputs": [],
   "source": []
  },
  {
   "cell_type": "code",
   "execution_count": null,
   "metadata": {},
   "outputs": [],
   "source": []
  },
  {
   "cell_type": "markdown",
   "metadata": {},
   "source": [
    "<a id='0'></a>\n",
    "# Install Monk\n",
    "  \n",
    " - git clone https://github.com/Tessellate-Imaging/monk_v1.git\n",
    " \n",
    " - cd monk_v1/installation/Linux && pip install -r requirements_cu9.txt\n",
    "     - (Select the requirements file as per OS and CUDA version)"
   ]
  },
  {
   "cell_type": "code",
   "execution_count": 1,
   "metadata": {},
   "outputs": [
    {
     "name": "stdout",
     "output_type": "stream",
     "text": [
      "Cloning into 'monk_v1'...\n",
      "remote: Enumerating objects: 49, done.\u001b[K\n",
      "remote: Counting objects: 100% (49/49), done.\u001b[K\n",
      "remote: Compressing objects: 100% (36/36), done.\u001b[K\n",
      "remote: Total 1954 (delta 20), reused 29 (delta 12), pack-reused 1905\u001b[K\n",
      "Receiving objects: 100% (1954/1954), 70.90 MiB | 15.48 MiB/s, done.\n",
      "Resolving deltas: 100% (1040/1040), done.\n"
     ]
    }
   ],
   "source": [
    "!git clone https://github.com/Tessellate-Imaging/monk_v1.git"
   ]
  },
  {
   "cell_type": "code",
   "execution_count": null,
   "metadata": {},
   "outputs": [],
   "source": [
    "# If using Colab install using the commands below\n",
    "!cd monk_v1/installation/Misc && pip install -r requirements_colab.txt\n",
    "\n",
    "# If using Kaggle uncomment the following command\n",
    "#!cd monk_v1/installation/Misc && pip install -r requirements_kaggle.txt\n",
    "\n",
    "# Select the requirements file as per OS and CUDA version when using a local system or cloud\n",
    "#!cd monk_v1/installation/Linux && pip install -r requirements_cu9.txt"
   ]
  },
  {
   "cell_type": "code",
   "execution_count": null,
   "metadata": {},
   "outputs": [],
   "source": []
  },
  {
   "cell_type": "code",
   "execution_count": null,
   "metadata": {},
   "outputs": [],
   "source": []
  },
  {
   "cell_type": "markdown",
   "metadata": {},
   "source": [
    "## Dataset\n",
    "    - Freiburg Grocerices Dataset - https://github.com/PhilJd/freiburg_groceries_dataset.git"
   ]
  },
  {
   "cell_type": "markdown",
   "metadata": {},
   "source": [
    "## Download the dataset"
   ]
  },
  {
   "cell_type": "code",
   "execution_count": 2,
   "metadata": {},
   "outputs": [
    {
     "name": "stdout",
     "output_type": "stream",
     "text": [
      "Cloning into 'freiburg_groceries_dataset'...\n",
      "remote: Enumerating objects: 123, done.\u001b[K\n",
      "remote: Total 123 (delta 0), reused 0 (delta 0), pack-reused 123\n",
      "Receiving objects: 100% (123/123), 6.54 MiB | 2.21 MiB/s, done.\n",
      "Resolving deltas: 100% (57/57), done.\n"
     ]
    }
   ],
   "source": [
    "! wget --load-cookies /tmp/cookies.txt \"https://docs.google.com/uc?export=download&confirm=$(wget --save-cookies /tmp/cookies.txt --keep-session-cookies --no-check-certificate 'https://docs.google.com/uc?export=download&id=1s7SihzMCpx6vqAYGyTyTw-T-EPumDsok' -O- | sed -rn 's/.*confirm=([0-9A-Za-z_]+).*/\\1\\n/p')&id=1s7SihzMCpx6vqAYGyTyTw-T-EPumDsok\" -O sampled_mask_data.zip && rm -rf /tmp/cookies.txt"
   ]
  },
  {
   "cell_type": "code",
   "execution_count": 3,
   "metadata": {},
   "outputs": [
    {
     "name": "stdout",
     "output_type": "stream",
     "text": [
      "Downloading dataset.\n",
      "Extracting dataset.\n",
      "Done.\n"
     ]
    }
   ],
   "source": [
    "! unzip -qq sampled_mask_data.zip "
   ]
  },
  {
   "cell_type": "code",
   "execution_count": null,
   "metadata": {},
   "outputs": [],
   "source": []
  },
  {
   "cell_type": "code",
   "execution_count": null,
   "metadata": {},
   "outputs": [],
   "source": []
  },
  {
   "cell_type": "code",
   "execution_count": null,
   "metadata": {},
   "outputs": [],
   "source": []
  },
  {
   "cell_type": "code",
   "execution_count": null,
   "metadata": {},
   "outputs": [],
   "source": []
  },
  {
   "cell_type": "markdown",
   "metadata": {},
   "source": [
    "<a id='1'></a>\n",
    "# Imports"
   ]
  },
  {
   "cell_type": "code",
   "execution_count": 1,
   "metadata": {},
   "outputs": [],
   "source": [
    "# Monk\n",
    "import os\n",
    "import sys\n",
    "sys.path.append(\"monk_v1/monk/\");"
   ]
  },
  {
   "cell_type": "code",
   "execution_count": 2,
   "metadata": {},
   "outputs": [],
   "source": [
    "#Using mxnet-gluon backend \n",
    "from gluon_prototype import prototype\n",
    "\n",
    "# For pytorch backend - from pytorch_prototype import prototype\n",
    "# For keras backend - from keras_prototype import prototype"
   ]
  },
  {
   "cell_type": "code",
   "execution_count": null,
   "metadata": {},
   "outputs": [],
   "source": []
  },
  {
   "cell_type": "code",
   "execution_count": null,
   "metadata": {},
   "outputs": [],
   "source": []
  },
  {
   "cell_type": "code",
   "execution_count": null,
   "metadata": {},
   "outputs": [],
   "source": []
  },
  {
   "cell_type": "markdown",
   "metadata": {},
   "source": [
    "<a id='2'></a>\n",
    "# Creating and managing experiments\n",
    "    - Provide project name\n",
    "    - Provide experiment name\n",
    "    - For a specific data create a single project\n",
    "    - Inside each project multiple experiments can be created\n",
    "    - Every experiment can be have diferent hyper-parameters attached to it"
   ]
  },
  {
   "cell_type": "code",
   "execution_count": 8,
   "metadata": {},
   "outputs": [
    {
     "name": "stdout",
     "output_type": "stream",
     "text": [
      "Mxnet Version: 1.5.0\n",
      "\n",
      "Experiment Details\n",
      "    Project: Masks_Dataset\n",
      "    Experiment: Experiment-1\n",
      "    Dir: /home/abhi/Downloads/masks/workspace/Masks_Dataset/Experiment-1/\n",
      "\n"
     ]
    }
   ],
   "source": [
    "gtf = prototype(verbose=1);\n",
    "gtf.Prototype(\"Masks_Dataset\", \"Experiment-1\");"
   ]
  },
  {
   "cell_type": "markdown",
   "metadata": {},
   "source": [
    "### This creates files and directories as per the following structure\n",
    "    \n",
    "    \n",
    "    workspace\n",
    "        |\n",
    "        |--------Grooceries_Dataset\n",
    "                        |\n",
    "                        |\n",
    "                        |-----Experiment-1 \n",
    "                                    |\n",
    "                                    |-----experiment-state.json\n",
    "                                    |\n",
    "                                    |-----output\n",
    "                                            |\n",
    "                                            |------logs (All training logs and graphs saved here)\n",
    "                                            |\n",
    "                                            |------models (all trained models saved here)\n",
    "                                    "
   ]
  },
  {
   "cell_type": "code",
   "execution_count": null,
   "metadata": {},
   "outputs": [],
   "source": []
  },
  {
   "cell_type": "code",
   "execution_count": null,
   "metadata": {},
   "outputs": [],
   "source": []
  },
  {
   "cell_type": "markdown",
   "metadata": {},
   "source": [
    "<a id='2'></a>\n",
    "# Set dataset and select the model"
   ]
  },
  {
   "cell_type": "code",
   "execution_count": null,
   "metadata": {},
   "outputs": [],
   "source": []
  },
  {
   "cell_type": "markdown",
   "metadata": {},
   "source": [
    "## Quick mode training\n",
    "\n",
    "    - Using Default Function\n",
    "        - dataset_path\n",
    "        - model_name\n",
    "        - num_epochs\n",
    "        \n",
    "        \n",
    "## Dataset folder structure\n",
    "\n",
    "    parent_directory\n",
    "        |\n",
    "        |\n",
    "        |------class1\n",
    "                |\n",
    "                |------img1.jpg\n",
    "                |------img2.jpg\n",
    "                |------.... (and so on)\n",
    "        |------class2\n",
    "                |\n",
    "                |------img1.jpg\n",
    "                |------img2.jpg\n",
    "                |------.... (and so on)  \n",
    "        |------...(and so on)"
   ]
  },
  {
   "cell_type": "code",
   "execution_count": null,
   "metadata": {},
   "outputs": [],
   "source": []
  },
  {
   "cell_type": "markdown",
   "metadata": {},
   "source": [
    "## Modifyable params \n",
    "    - dataset_path: path to data\n",
    "    - model_name: which pretrained model to use\n",
    "    - freeze_base_network: Retrain already trained network or not\n",
    "    - num_epochs: Number of epochs to train for"
   ]
  },
  {
   "cell_type": "code",
   "execution_count": 9,
   "metadata": {},
   "outputs": [
    {
     "name": "stdout",
     "output_type": "stream",
     "text": [
      "Dataset Details\n",
      "    Train path:     sampled_mask_data/train\n",
      "    Val path:       None\n",
      "    CSV train path: None\n",
      "    CSV val path:   None\n",
      "    Label Type:     single\n",
      "\n",
      "Dataset Params\n",
      "    Input Size:   224\n",
      "    Batch Size:   4\n",
      "    Data Shuffle: True\n",
      "    Processors:   4\n",
      "    Train-val split:   0.7\n",
      "\n",
      "Pre-Composed Train Transforms\n",
      "[{'RandomHorizontalFlip': {'p': 0.8}}, {'Normalize': {'mean': [0.485, 0.456, 0.406], 'std': [0.229, 0.224, 0.225]}}]\n",
      "\n",
      "Pre-Composed Val Transforms\n",
      "[{'RandomHorizontalFlip': {'p': 0.8}}, {'Normalize': {'mean': [0.485, 0.456, 0.406], 'std': [0.229, 0.224, 0.225]}}]\n",
      "\n",
      "Dataset Numbers\n",
      "    Num train images: 510\n",
      "    Num val images:   219\n",
      "    Num classes:      2\n",
      "\n",
      "Model Params\n",
      "    Model name:           densenet121\n",
      "    Use Gpu:              True\n",
      "    Use pretrained:       True\n",
      "    Freeze base network:  False\n",
      "\n",
      "Model Details\n",
      "    Loading pretrained model\n",
      "    Model Loaded on device\n",
      "        Model name:                           densenet121\n",
      "        Num of potentially trainable layers:  242\n",
      "        Num of actual trainable layers:       242\n",
      "\n",
      "Optimizer\n",
      "    Name:          sgd\n",
      "    Learning rate: 0.01\n",
      "    Params:        {'lr': 0.01, 'momentum': 0, 'weight_decay': 0.0001, 'momentum_dampening_rate': 0, 'clipnorm': 0.0, 'clipvalue': 0.0}\n",
      "\n",
      "\n",
      "\n",
      "Learning rate scheduler\n",
      "    Name:   multisteplr\n",
      "    Params: {'milestones': [10, 15], 'gamma': 0.1, 'last_epoch': -1}\n",
      "\n",
      "Loss\n",
      "    Name:          softmaxcrossentropy\n",
      "    Params:        {'weight': None, 'batch_axis': 0, 'axis_to_sum_over': -1, 'label_as_categories': True, 'label_smoothing': False}\n",
      "\n",
      "Training params\n",
      "    Num Epochs: 20\n",
      "\n",
      "Display params\n",
      "    Display progress:          True\n",
      "    Display progress realtime: True\n",
      "    Save Training logs:        True\n",
      "    Save Intermediate models:  True\n",
      "    Intermediate model prefix: intermediate_model_\n",
      "\n"
     ]
    }
   ],
   "source": [
    "gtf.Default(dataset_path=\"sampled_mask_data/train\", \n",
    "            model_name=\"densenet121\", \n",
    "            freeze_base_network=False,\n",
    "            num_epochs=20);\n",
    "\n",
    "#Read the summary generated once you run this cell. "
   ]
  },
  {
   "cell_type": "code",
   "execution_count": null,
   "metadata": {},
   "outputs": [],
   "source": []
  },
  {
   "cell_type": "markdown",
   "metadata": {},
   "source": [
    "## From the summary above\n",
    "\n",
    "    - Model Params\n",
    "        Model name:           densenet121\n",
    "        Use Gpu:              True\n",
    "        Use pretrained:       True\n",
    "        Freeze base network:  False"
   ]
  },
  {
   "cell_type": "markdown",
   "metadata": {},
   "source": [
    "<a id='4'></a>\n",
    "# See what other models Monk's mxnet backend supports"
   ]
  },
  {
   "cell_type": "code",
   "execution_count": null,
   "metadata": {},
   "outputs": [],
   "source": []
  },
  {
   "cell_type": "code",
   "execution_count": 13,
   "metadata": {},
   "outputs": [
    {
     "name": "stdout",
     "output_type": "stream",
     "text": [
      "Models List: \n",
      "    1. alexnet\n",
      "    2. darknet53\n",
      "    3. densenet121\n",
      "    4. densenet161\n",
      "    5. densenet169\n",
      "    6. densenet201\n",
      "    7. inceptionv3\n",
      "    8. mobilenet1.0\n",
      "    9. mobilenet0.75\n",
      "    10. mobilenet0.25\n",
      "    11. mobilenet0.5\n",
      "    12. resnet18_v1\n",
      "    13. resnet34_v1\n",
      "    14. resnet50_v1\n",
      "    15. resnet101_v1\n",
      "    16. resnet152_v1\n",
      "    17. resnext50_32x4d\n",
      "    18. resnext101_32x4d\n",
      "    19. resnext101_64x4d_v1\n",
      "    20. se_resnext50_32x4d\n",
      "    21. se_resnext101_32x4d\n",
      "    22. se_resnext101_64x4d\n",
      "    23. senet_154\n",
      "    24. vgg11\n",
      "    25. vgg13\n",
      "    26. vgg16\n",
      "    27. vgg19\n",
      "    28. vgg11_bn\n",
      "    29. vgg13_bn\n",
      "    30. vgg16_bn\n",
      "    31. vgg19_bn\n",
      "    32. resnet18_v2\n",
      "    33. resnet34_v2\n",
      "    34. resnet50_v2\n",
      "    35. resnet101_v2\n",
      "    36. resnet152_v2\n",
      "    37. mobilenetv2_1.0\n",
      "    38. mobilenetv2_0.75\n",
      "    39. mobilenetv2_0.5\n",
      "    40. mobilenetv2_0.25\n",
      "    41. squeezenet1.0\n",
      "    42. squeezenet1.1\n",
      "    43. mobilenetv3_large\n",
      "    44. mobilenetv3_small\n",
      "    45. resnet18_v1b\n",
      "    46. resnet34_v1b\n",
      "    47. resnet50_v1b\n",
      "    48. resnet50_v1b_gn\n",
      "    49. resnet101_v1b\n",
      "    50. resnet152_v1b\n",
      "    51. resnet50_v1c\n",
      "    52. resnet101_v1c\n",
      "    53. resnet152_v1c\n",
      "    54. resnet50_v1d\n",
      "    55. resnet101_v1d\n",
      "    56. resnet152_v1d\n",
      "    57. resnet18_v1d\n",
      "    58. resnet34_v1d\n",
      "    59. resnet50_v1d\n",
      "    60. resnet101_v1d\n",
      "    61. resnet152_v1d\n",
      "    62. resnet18_v1b_0.89\n",
      "    63. resnet50_v1d_0.86\n",
      "    64. resnet50_v1d_0.48\n",
      "    65. resnet50_v1d_0.37\n",
      "    66. resnet50_v1d_0.11\n",
      "    67. resnet101_v1d_0.76\n",
      "    68. resnet101_v1d_0.73\n",
      "    69. xception\n",
      "\n"
     ]
    }
   ],
   "source": [
    "gtf.List_Models();"
   ]
  },
  {
   "cell_type": "code",
   "execution_count": null,
   "metadata": {},
   "outputs": [],
   "source": []
  },
  {
   "cell_type": "code",
   "execution_count": null,
   "metadata": {},
   "outputs": [],
   "source": []
  },
  {
   "cell_type": "markdown",
   "metadata": {},
   "source": [
    "<a id='5'></a>\n",
    "# Train the classifier"
   ]
  },
  {
   "cell_type": "code",
   "execution_count": null,
   "metadata": {},
   "outputs": [],
   "source": []
  },
  {
   "cell_type": "code",
   "execution_count": 10,
   "metadata": {},
   "outputs": [
    {
     "name": "stdout",
     "output_type": "stream",
     "text": [
      "Training Start\n",
      "    Epoch 1/20\n",
      "    ----------\n"
     ]
    },
    {
     "data": {
      "application/vnd.jupyter.widget-view+json": {
       "model_id": "85193ce58764440688705b5916edd829",
       "version_major": 2,
       "version_minor": 0
      },
      "text/plain": [
       "HBox(children=(IntProgress(value=0, max=128), HTML(value='')))"
      ]
     },
     "metadata": {},
     "output_type": "display_data"
    },
    {
     "data": {
      "application/vnd.jupyter.widget-view+json": {
       "model_id": "0ea9c20242f742bca1af94d883aee9bb",
       "version_major": 2,
       "version_minor": 0
      },
      "text/plain": [
       "HBox(children=(IntProgress(value=0, max=55), HTML(value='')))"
      ]
     },
     "metadata": {},
     "output_type": "display_data"
    },
    {
     "name": "stdout",
     "output_type": "stream",
     "text": [
      "\n",
      "\n",
      "    curr_lr - 0.01\n",
      "    [Epoch 1] Train-acc: 0.861, Train-loss: 0.410 | Val-acc: 0.881279, Val-loss: 0.402, | time: 10.7 sec\n",
      "\n",
      "    Epoch 2/20\n",
      "    ----------\n"
     ]
    },
    {
     "data": {
      "application/vnd.jupyter.widget-view+json": {
       "model_id": "4f646e068c5e418fbf2d06f59edfcd17",
       "version_major": 2,
       "version_minor": 0
      },
      "text/plain": [
       "HBox(children=(IntProgress(value=0, max=128), HTML(value='')))"
      ]
     },
     "metadata": {},
     "output_type": "display_data"
    },
    {
     "data": {
      "application/vnd.jupyter.widget-view+json": {
       "model_id": "7dc9b9ee35834032bcbe94002590b2b2",
       "version_major": 2,
       "version_minor": 0
      },
      "text/plain": [
       "HBox(children=(IntProgress(value=0, max=55), HTML(value='')))"
      ]
     },
     "metadata": {},
     "output_type": "display_data"
    },
    {
     "name": "stdout",
     "output_type": "stream",
     "text": [
      "\n",
      "\n",
      "    curr_lr - 0.01\n",
      "    [Epoch 2] Train-acc: 0.918, Train-loss: 0.265 | Val-acc: 0.926941, Val-loss: 0.356, | time: 10.3 sec\n",
      "\n",
      "    Epoch 3/20\n",
      "    ----------\n"
     ]
    },
    {
     "data": {
      "application/vnd.jupyter.widget-view+json": {
       "model_id": "17d65a2fbcab407182a25e6ed5e21575",
       "version_major": 2,
       "version_minor": 0
      },
      "text/plain": [
       "HBox(children=(IntProgress(value=0, max=128), HTML(value='')))"
      ]
     },
     "metadata": {},
     "output_type": "display_data"
    },
    {
     "data": {
      "application/vnd.jupyter.widget-view+json": {
       "model_id": "8b6bb3b894164cc887a237516b1ee340",
       "version_major": 2,
       "version_minor": 0
      },
      "text/plain": [
       "HBox(children=(IntProgress(value=0, max=55), HTML(value='')))"
      ]
     },
     "metadata": {},
     "output_type": "display_data"
    },
    {
     "name": "stdout",
     "output_type": "stream",
     "text": [
      "\n",
      "\n",
      "    curr_lr - 0.01\n",
      "    [Epoch 3] Train-acc: 0.914, Train-loss: 0.333 | Val-acc: 0.940639, Val-loss: 0.193, | time: 10.2 sec\n",
      "\n",
      "    Epoch 4/20\n",
      "    ----------\n"
     ]
    },
    {
     "data": {
      "application/vnd.jupyter.widget-view+json": {
       "model_id": "497f1b7b07ea4260a75a32ff7786a905",
       "version_major": 2,
       "version_minor": 0
      },
      "text/plain": [
       "HBox(children=(IntProgress(value=0, max=128), HTML(value='')))"
      ]
     },
     "metadata": {},
     "output_type": "display_data"
    },
    {
     "data": {
      "application/vnd.jupyter.widget-view+json": {
       "model_id": "43a82afc647a4bb59ee117f08c7b2421",
       "version_major": 2,
       "version_minor": 0
      },
      "text/plain": [
       "HBox(children=(IntProgress(value=0, max=55), HTML(value='')))"
      ]
     },
     "metadata": {},
     "output_type": "display_data"
    },
    {
     "name": "stdout",
     "output_type": "stream",
     "text": [
      "\n",
      "\n",
      "    curr_lr - 0.01\n",
      "    [Epoch 4] Train-acc: 0.951, Train-loss: 0.213 | Val-acc: 0.890411, Val-loss: 0.445, | time: 10.1 sec\n",
      "\n",
      "    Epoch 5/20\n",
      "    ----------\n"
     ]
    },
    {
     "data": {
      "application/vnd.jupyter.widget-view+json": {
       "model_id": "ade52cf564224cdf95b1c8b8373a33b6",
       "version_major": 2,
       "version_minor": 0
      },
      "text/plain": [
       "HBox(children=(IntProgress(value=0, max=128), HTML(value='')))"
      ]
     },
     "metadata": {},
     "output_type": "display_data"
    },
    {
     "data": {
      "application/vnd.jupyter.widget-view+json": {
       "model_id": "28c78f01f1664be5b083702ba5a8d119",
       "version_major": 2,
       "version_minor": 0
      },
      "text/plain": [
       "HBox(children=(IntProgress(value=0, max=55), HTML(value='')))"
      ]
     },
     "metadata": {},
     "output_type": "display_data"
    },
    {
     "name": "stdout",
     "output_type": "stream",
     "text": [
      "\n",
      "\n",
      "    curr_lr - 0.01\n",
      "    [Epoch 5] Train-acc: 0.910, Train-loss: 0.281 | Val-acc: 0.922374, Val-loss: 0.390, | time: 10.1 sec\n",
      "\n",
      "    Epoch 6/20\n",
      "    ----------\n"
     ]
    },
    {
     "data": {
      "application/vnd.jupyter.widget-view+json": {
       "model_id": "1d9c1211011246f8af08577fdfd2b075",
       "version_major": 2,
       "version_minor": 0
      },
      "text/plain": [
       "HBox(children=(IntProgress(value=0, max=128), HTML(value='')))"
      ]
     },
     "metadata": {},
     "output_type": "display_data"
    },
    {
     "data": {
      "application/vnd.jupyter.widget-view+json": {
       "model_id": "d415ae20cdd441a08f41e19e449b5d5e",
       "version_major": 2,
       "version_minor": 0
      },
      "text/plain": [
       "HBox(children=(IntProgress(value=0, max=55), HTML(value='')))"
      ]
     },
     "metadata": {},
     "output_type": "display_data"
    },
    {
     "name": "stdout",
     "output_type": "stream",
     "text": [
      "\n",
      "\n",
      "    curr_lr - 0.01\n",
      "    [Epoch 6] Train-acc: 0.939, Train-loss: 0.249 | Val-acc: 0.963470, Val-loss: 0.102, | time: 10.2 sec\n",
      "\n",
      "    Epoch 7/20\n",
      "    ----------\n"
     ]
    },
    {
     "data": {
      "application/vnd.jupyter.widget-view+json": {
       "model_id": "e10547af00ea47b09aa60b8faa4ab4f7",
       "version_major": 2,
       "version_minor": 0
      },
      "text/plain": [
       "HBox(children=(IntProgress(value=0, max=128), HTML(value='')))"
      ]
     },
     "metadata": {},
     "output_type": "display_data"
    },
    {
     "data": {
      "application/vnd.jupyter.widget-view+json": {
       "model_id": "51271938c13a4f9fb85a3abb3b51c194",
       "version_major": 2,
       "version_minor": 0
      },
      "text/plain": [
       "HBox(children=(IntProgress(value=0, max=55), HTML(value='')))"
      ]
     },
     "metadata": {},
     "output_type": "display_data"
    },
    {
     "name": "stdout",
     "output_type": "stream",
     "text": [
      "\n",
      "\n",
      "    curr_lr - 0.01\n",
      "    [Epoch 7] Train-acc: 0.902, Train-loss: 0.356 | Val-acc: 0.949772, Val-loss: 0.126, | time: 10.1 sec\n",
      "\n",
      "    Epoch 8/20\n",
      "    ----------\n"
     ]
    },
    {
     "data": {
      "application/vnd.jupyter.widget-view+json": {
       "model_id": "dc369f8987b54526a3fe0a06717d22e0",
       "version_major": 2,
       "version_minor": 0
      },
      "text/plain": [
       "HBox(children=(IntProgress(value=0, max=128), HTML(value='')))"
      ]
     },
     "metadata": {},
     "output_type": "display_data"
    },
    {
     "data": {
      "application/vnd.jupyter.widget-view+json": {
       "model_id": "d084c3202f394a9a8d0b55f787f7eb09",
       "version_major": 2,
       "version_minor": 0
      },
      "text/plain": [
       "HBox(children=(IntProgress(value=0, max=55), HTML(value='')))"
      ]
     },
     "metadata": {},
     "output_type": "display_data"
    },
    {
     "name": "stdout",
     "output_type": "stream",
     "text": [
      "\n",
      "\n",
      "    curr_lr - 0.01\n",
      "    [Epoch 8] Train-acc: 0.957, Train-loss: 0.124 | Val-acc: 0.977169, Val-loss: 0.094, | time: 10.2 sec\n",
      "\n",
      "    Epoch 9/20\n",
      "    ----------\n"
     ]
    },
    {
     "data": {
      "application/vnd.jupyter.widget-view+json": {
       "model_id": "5f218d6c4d5341698eff30cb06956dc9",
       "version_major": 2,
       "version_minor": 0
      },
      "text/plain": [
       "HBox(children=(IntProgress(value=0, max=128), HTML(value='')))"
      ]
     },
     "metadata": {},
     "output_type": "display_data"
    },
    {
     "data": {
      "application/vnd.jupyter.widget-view+json": {
       "model_id": "2c4c9a9c181d4d9db3a47992dd1a275a",
       "version_major": 2,
       "version_minor": 0
      },
      "text/plain": [
       "HBox(children=(IntProgress(value=0, max=55), HTML(value='')))"
      ]
     },
     "metadata": {},
     "output_type": "display_data"
    },
    {
     "name": "stdout",
     "output_type": "stream",
     "text": [
      "\n",
      "\n",
      "    curr_lr - 0.01\n",
      "    [Epoch 9] Train-acc: 0.955, Train-loss: 0.177 | Val-acc: 0.940639, Val-loss: 0.295, | time: 10.1 sec\n",
      "\n",
      "    Epoch 10/20\n",
      "    ----------\n"
     ]
    },
    {
     "data": {
      "application/vnd.jupyter.widget-view+json": {
       "model_id": "d845219fa6ea4b16b4d9b7fec22dc4d4",
       "version_major": 2,
       "version_minor": 0
      },
      "text/plain": [
       "HBox(children=(IntProgress(value=0, max=128), HTML(value='')))"
      ]
     },
     "metadata": {},
     "output_type": "display_data"
    },
    {
     "data": {
      "application/vnd.jupyter.widget-view+json": {
       "model_id": "4b05b4d256b4446fb9d33386346eab4e",
       "version_major": 2,
       "version_minor": 0
      },
      "text/plain": [
       "HBox(children=(IntProgress(value=0, max=55), HTML(value='')))"
      ]
     },
     "metadata": {},
     "output_type": "display_data"
    },
    {
     "name": "stdout",
     "output_type": "stream",
     "text": [
      "\n",
      "\n",
      "    curr_lr - 0.01\n",
      "    [Epoch 10] Train-acc: 0.957, Train-loss: 0.141 | Val-acc: 0.972603, Val-loss: 0.119, | time: 10.2 sec\n",
      "\n",
      "    Epoch 11/20\n",
      "    ----------\n"
     ]
    },
    {
     "data": {
      "application/vnd.jupyter.widget-view+json": {
       "model_id": "de75d438f11d4a8cbfae342656124909",
       "version_major": 2,
       "version_minor": 0
      },
      "text/plain": [
       "HBox(children=(IntProgress(value=0, max=128), HTML(value='')))"
      ]
     },
     "metadata": {},
     "output_type": "display_data"
    },
    {
     "data": {
      "application/vnd.jupyter.widget-view+json": {
       "model_id": "b1dadf9f1c1e4375a55bef7dae1c12ee",
       "version_major": 2,
       "version_minor": 0
      },
      "text/plain": [
       "HBox(children=(IntProgress(value=0, max=55), HTML(value='')))"
      ]
     },
     "metadata": {},
     "output_type": "display_data"
    },
    {
     "name": "stdout",
     "output_type": "stream",
     "text": [
      "\n",
      "\n",
      "    curr_lr - 0.001\n",
      "    [Epoch 11] Train-acc: 0.971, Train-loss: 0.093 | Val-acc: 0.908676, Val-loss: 0.326, | time: 10.2 sec\n",
      "\n",
      "    Epoch 12/20\n",
      "    ----------\n"
     ]
    },
    {
     "data": {
      "application/vnd.jupyter.widget-view+json": {
       "model_id": "1b7f00a90dda436d91ad15d2563ffae3",
       "version_major": 2,
       "version_minor": 0
      },
      "text/plain": [
       "HBox(children=(IntProgress(value=0, max=128), HTML(value='')))"
      ]
     },
     "metadata": {},
     "output_type": "display_data"
    },
    {
     "data": {
      "application/vnd.jupyter.widget-view+json": {
       "model_id": "63995e1b7f654db49dc6ca40085a4f7b",
       "version_major": 2,
       "version_minor": 0
      },
      "text/plain": [
       "HBox(children=(IntProgress(value=0, max=55), HTML(value='')))"
      ]
     },
     "metadata": {},
     "output_type": "display_data"
    },
    {
     "name": "stdout",
     "output_type": "stream",
     "text": [
      "\n",
      "\n",
      "    curr_lr - 0.001\n",
      "    [Epoch 12] Train-acc: 0.967, Train-loss: 0.075 | Val-acc: 0.963470, Val-loss: 0.107, | time: 10.1 sec\n",
      "\n",
      "    Epoch 13/20\n",
      "    ----------\n"
     ]
    },
    {
     "data": {
      "application/vnd.jupyter.widget-view+json": {
       "model_id": "ffc5f37ecd094eeda4cf76448e27c17a",
       "version_major": 2,
       "version_minor": 0
      },
      "text/plain": [
       "HBox(children=(IntProgress(value=0, max=128), HTML(value='')))"
      ]
     },
     "metadata": {},
     "output_type": "display_data"
    },
    {
     "data": {
      "application/vnd.jupyter.widget-view+json": {
       "model_id": "518f7822780a4daf9d26ba346b9c50ca",
       "version_major": 2,
       "version_minor": 0
      },
      "text/plain": [
       "HBox(children=(IntProgress(value=0, max=55), HTML(value='')))"
      ]
     },
     "metadata": {},
     "output_type": "display_data"
    },
    {
     "name": "stdout",
     "output_type": "stream",
     "text": [
      "\n",
      "\n",
      "    curr_lr - 0.001\n",
      "    [Epoch 13] Train-acc: 0.982, Train-loss: 0.083 | Val-acc: 0.977169, Val-loss: 0.139, | time: 9.9 sec\n",
      "\n",
      "    Epoch 14/20\n",
      "    ----------\n"
     ]
    },
    {
     "data": {
      "application/vnd.jupyter.widget-view+json": {
       "model_id": "9caca1ecbaf6452bb93626c5ab2cf276",
       "version_major": 2,
       "version_minor": 0
      },
      "text/plain": [
       "HBox(children=(IntProgress(value=0, max=128), HTML(value='')))"
      ]
     },
     "metadata": {},
     "output_type": "display_data"
    },
    {
     "data": {
      "application/vnd.jupyter.widget-view+json": {
       "model_id": "ad6c7b1a762449f8b7e0eafa61e75836",
       "version_major": 2,
       "version_minor": 0
      },
      "text/plain": [
       "HBox(children=(IntProgress(value=0, max=55), HTML(value='')))"
      ]
     },
     "metadata": {},
     "output_type": "display_data"
    },
    {
     "name": "stdout",
     "output_type": "stream",
     "text": [
      "\n",
      "\n",
      "    curr_lr - 0.001\n",
      "    [Epoch 14] Train-acc: 0.975, Train-loss: 0.062 | Val-acc: 0.981735, Val-loss: 0.087, | time: 10.4 sec\n",
      "\n",
      "    Epoch 15/20\n",
      "    ----------\n"
     ]
    },
    {
     "data": {
      "application/vnd.jupyter.widget-view+json": {
       "model_id": "504225377c19436593e8f6dedad42101",
       "version_major": 2,
       "version_minor": 0
      },
      "text/plain": [
       "HBox(children=(IntProgress(value=0, max=128), HTML(value='')))"
      ]
     },
     "metadata": {},
     "output_type": "display_data"
    },
    {
     "data": {
      "application/vnd.jupyter.widget-view+json": {
       "model_id": "ec116df7da814139bccdc15a39c49706",
       "version_major": 2,
       "version_minor": 0
      },
      "text/plain": [
       "HBox(children=(IntProgress(value=0, max=55), HTML(value='')))"
      ]
     },
     "metadata": {},
     "output_type": "display_data"
    },
    {
     "name": "stdout",
     "output_type": "stream",
     "text": [
      "\n",
      "\n",
      "    curr_lr - 0.001\n",
      "    [Epoch 15] Train-acc: 0.982, Train-loss: 0.047 | Val-acc: 0.990868, Val-loss: 0.071, | time: 10.9 sec\n",
      "\n",
      "    Epoch 16/20\n",
      "    ----------\n"
     ]
    },
    {
     "data": {
      "application/vnd.jupyter.widget-view+json": {
       "model_id": "dfc577cc79a642f7a5af5702aea4f4cf",
       "version_major": 2,
       "version_minor": 0
      },
      "text/plain": [
       "HBox(children=(IntProgress(value=0, max=128), HTML(value='')))"
      ]
     },
     "metadata": {},
     "output_type": "display_data"
    },
    {
     "data": {
      "application/vnd.jupyter.widget-view+json": {
       "model_id": "7186a5fa116e4aadb21c3233859e3868",
       "version_major": 2,
       "version_minor": 0
      },
      "text/plain": [
       "HBox(children=(IntProgress(value=0, max=55), HTML(value='')))"
      ]
     },
     "metadata": {},
     "output_type": "display_data"
    },
    {
     "name": "stdout",
     "output_type": "stream",
     "text": [
      "\n",
      "\n",
      "    curr_lr - 0.0001\n",
      "    [Epoch 16] Train-acc: 0.988, Train-loss: 0.068 | Val-acc: 0.968037, Val-loss: 0.154, | time: 10.5 sec\n",
      "\n",
      "    Epoch 17/20\n",
      "    ----------\n"
     ]
    },
    {
     "data": {
      "application/vnd.jupyter.widget-view+json": {
       "model_id": "67c8f3b9679e47b6a54e4f07edaa0d58",
       "version_major": 2,
       "version_minor": 0
      },
      "text/plain": [
       "HBox(children=(IntProgress(value=0, max=128), HTML(value='')))"
      ]
     },
     "metadata": {},
     "output_type": "display_data"
    },
    {
     "data": {
      "application/vnd.jupyter.widget-view+json": {
       "model_id": "5e2cef4c7d364c80b75d254c8f2cd667",
       "version_major": 2,
       "version_minor": 0
      },
      "text/plain": [
       "HBox(children=(IntProgress(value=0, max=55), HTML(value='')))"
      ]
     },
     "metadata": {},
     "output_type": "display_data"
    },
    {
     "name": "stdout",
     "output_type": "stream",
     "text": [
      "\n",
      "\n",
      "    curr_lr - 0.0001\n",
      "    [Epoch 17] Train-acc: 0.984, Train-loss: 0.057 | Val-acc: 0.977169, Val-loss: 0.082, | time: 10.5 sec\n",
      "\n",
      "    Epoch 18/20\n",
      "    ----------\n"
     ]
    },
    {
     "data": {
      "application/vnd.jupyter.widget-view+json": {
       "model_id": "53a1cf80efb648d3af3fb66ed956affd",
       "version_major": 2,
       "version_minor": 0
      },
      "text/plain": [
       "HBox(children=(IntProgress(value=0, max=128), HTML(value='')))"
      ]
     },
     "metadata": {},
     "output_type": "display_data"
    },
    {
     "data": {
      "application/vnd.jupyter.widget-view+json": {
       "model_id": "0f2d74e6fd3a4a3b9fd703595794ad27",
       "version_major": 2,
       "version_minor": 0
      },
      "text/plain": [
       "HBox(children=(IntProgress(value=0, max=55), HTML(value='')))"
      ]
     },
     "metadata": {},
     "output_type": "display_data"
    },
    {
     "name": "stdout",
     "output_type": "stream",
     "text": [
      "\n",
      "\n",
      "    curr_lr - 0.0001\n",
      "    [Epoch 18] Train-acc: 0.980, Train-loss: 0.066 | Val-acc: 0.972603, Val-loss: 0.163, | time: 10.0 sec\n",
      "\n",
      "    Epoch 19/20\n",
      "    ----------\n"
     ]
    },
    {
     "data": {
      "application/vnd.jupyter.widget-view+json": {
       "model_id": "80a74edd1dfa4b69b47d88308c5132dd",
       "version_major": 2,
       "version_minor": 0
      },
      "text/plain": [
       "HBox(children=(IntProgress(value=0, max=128), HTML(value='')))"
      ]
     },
     "metadata": {},
     "output_type": "display_data"
    },
    {
     "data": {
      "application/vnd.jupyter.widget-view+json": {
       "model_id": "df8d8efd88494816bb996fdfd0808680",
       "version_major": 2,
       "version_minor": 0
      },
      "text/plain": [
       "HBox(children=(IntProgress(value=0, max=55), HTML(value='')))"
      ]
     },
     "metadata": {},
     "output_type": "display_data"
    },
    {
     "name": "stdout",
     "output_type": "stream",
     "text": [
      "\n",
      "\n",
      "    curr_lr - 0.0001\n",
      "    [Epoch 19] Train-acc: 0.984, Train-loss: 0.047 | Val-acc: 0.936073, Val-loss: 0.145, | time: 10.1 sec\n",
      "\n",
      "    Epoch 20/20\n",
      "    ----------\n"
     ]
    },
    {
     "data": {
      "application/vnd.jupyter.widget-view+json": {
       "model_id": "567a2821966d40d5a651119dfc52392f",
       "version_major": 2,
       "version_minor": 0
      },
      "text/plain": [
       "HBox(children=(IntProgress(value=0, max=128), HTML(value='')))"
      ]
     },
     "metadata": {},
     "output_type": "display_data"
    },
    {
     "data": {
      "application/vnd.jupyter.widget-view+json": {
       "model_id": "b642da2e544140b0ab5f68203e7c87a1",
       "version_major": 2,
       "version_minor": 0
      },
      "text/plain": [
       "HBox(children=(IntProgress(value=0, max=55), HTML(value='')))"
      ]
     },
     "metadata": {},
     "output_type": "display_data"
    },
    {
     "name": "stdout",
     "output_type": "stream",
     "text": [
      "\n",
      "\n",
      "    curr_lr - 0.0001\n",
      "    [Epoch 20] Train-acc: 0.967, Train-loss: 0.075 | Val-acc: 0.977169, Val-loss: 0.088, | time: 10.0 sec\n",
      "\n",
      "    Training completed in: 3m 20s\n",
      "    Best val Acc:          0.990868\n",
      "\n",
      "Training End\n",
      "\n",
      "Training Outputs\n",
      "    Model Dir:   /home/abhi/Downloads/masks/workspace/Masks_Dataset/Experiment-1/output/models/\n",
      "    Log Dir:     /home/abhi/Downloads/masks/workspace/Masks_Dataset/Experiment-1/output/logs/\n",
      "    Final model: final\n",
      "    Best model:  best_model\n",
      "    Log 1 - Validation accuracy history log: val_acc_history.npy\n",
      "    Log 2 - Validation loss history log:     val_loss_history.npy\n",
      "    Log 3 - Training accuracy history log:   train_acc_history.npy\n",
      "    Log 4 - Training loss history log:       train_loss_history.npy\n",
      "    Log 5 - Training curve:                  train_loss_history.npy\n",
      "    Log 6 - Validation curve:                train_loss_history.npy\n",
      "\n"
     ]
    },
    {
     "data": {
      "text/plain": [
       "<Figure size 432x288 with 0 Axes>"
      ]
     },
     "metadata": {},
     "output_type": "display_data"
    }
   ],
   "source": [
    "#Start Training\n",
    "gtf.Train();\n",
    "\n",
    "#Read the training summary generated once you run the cell and training is completed"
   ]
  },
  {
   "cell_type": "code",
   "execution_count": null,
   "metadata": {},
   "outputs": [],
   "source": []
  },
  {
   "cell_type": "code",
   "execution_count": null,
   "metadata": {},
   "outputs": [],
   "source": []
  },
  {
   "cell_type": "code",
   "execution_count": null,
   "metadata": {},
   "outputs": [],
   "source": []
  },
  {
   "cell_type": "code",
   "execution_count": null,
   "metadata": {},
   "outputs": [],
   "source": []
  },
  {
   "cell_type": "code",
   "execution_count": null,
   "metadata": {},
   "outputs": [],
   "source": []
  },
  {
   "cell_type": "code",
   "execution_count": null,
   "metadata": {},
   "outputs": [],
   "source": []
  },
  {
   "cell_type": "markdown",
   "metadata": {},
   "source": [
    "<a id='7'></a>\n",
    "# Running inference on test images"
   ]
  },
  {
   "cell_type": "code",
   "execution_count": null,
   "metadata": {},
   "outputs": [],
   "source": []
  },
  {
   "cell_type": "markdown",
   "metadata": {},
   "source": [
    "## Load the experiment in inference mode\n",
    "    - Set flag eval_infer as True"
   ]
  },
  {
   "cell_type": "code",
   "execution_count": 11,
   "metadata": {
    "scrolled": true
   },
   "outputs": [
    {
     "name": "stdout",
     "output_type": "stream",
     "text": [
      "Mxnet Version: 1.5.0\n",
      "\n",
      "Model Details\n",
      "    Loading model - workspace/Masks_Dataset/Experiment-1/output/models/final-symbol.json\n",
      "    Model loaded!\n",
      "\n",
      "Experiment Details\n",
      "    Project: Masks_Dataset\n",
      "    Experiment: Experiment-1\n",
      "    Dir: /home/abhi/Downloads/masks/workspace/Masks_Dataset/Experiment-1/\n",
      "\n"
     ]
    }
   ],
   "source": [
    "gtf = prototype(verbose=1);\n",
    "gtf.Prototype(\"Masks_Dataset\", \"Experiment-1\", eval_infer=True);"
   ]
  },
  {
   "cell_type": "code",
   "execution_count": null,
   "metadata": {},
   "outputs": [],
   "source": []
  },
  {
   "cell_type": "markdown",
   "metadata": {},
   "source": [
    "## Select image and Run inference"
   ]
  },
  {
   "cell_type": "code",
   "execution_count": 12,
   "metadata": {},
   "outputs": [
    {
     "name": "stdout",
     "output_type": "stream",
     "text": [
      "Prediction\n",
      "    Image name:         sampled_mask_data/test/test1.jpg\n",
      "    Predicted class:      without_mask\n",
      "    Predicted score:      5.54690408706665\n",
      "\n"
     ]
    },
    {
     "data": {
      "image/jpeg": "[encoded data removed]",
      "text/plain": [
       "<IPython.core.display.Image object>"
      ]
     },
     "execution_count": 12,
     "metadata": {},
     "output_type": "execute_result"
    }
   ],
   "source": [
    "img_name = \"sampled_mask_data/test/test1.jpg\";\n",
    "predictions = gtf.Infer(img_name=img_name);\n",
    "\n",
    "#Display \n",
    "from IPython.display import Image\n",
    "Image(filename=img_name) "
   ]
  },
  {
   "cell_type": "code",
   "execution_count": null,
   "metadata": {},
   "outputs": [],
   "source": []
  },
  {
   "cell_type": "code",
   "execution_count": null,
   "metadata": {},
   "outputs": [],
   "source": []
  },
  {
   "cell_type": "code",
   "execution_count": 14,
   "metadata": {},
   "outputs": [
    {
     "name": "stdout",
     "output_type": "stream",
     "text": [
      "Prediction\n",
      "    Image name:         sampled_mask_data/test/test2.jpg\n",
      "    Predicted class:      without_mask\n",
      "    Predicted score:      5.219860553741455\n",
      "\n"
     ]
    },
    {
     "data": {
      "image/jpeg": "[encoded data removed]",
      "text/plain": [
       "<IPython.core.display.Image object>"
      ]
     },
     "execution_count": 14,
     "metadata": {},
     "output_type": "execute_result"
    }
   ],
   "source": [
    "img_name =  \"sampled_mask_data/test/test2.jpg\";\n",
    "predictions = gtf.Infer(img_name=img_name);\n",
    "\n",
    "#Display \n",
    "from IPython.display import Image\n",
    "Image(filename=img_name) "
   ]
  },
  {
   "cell_type": "code",
   "execution_count": null,
   "metadata": {},
   "outputs": [],
   "source": []
  },
  {
   "cell_type": "code",
   "execution_count": null,
   "metadata": {},
   "outputs": [],
   "source": []
  },
  {
   "cell_type": "code",
   "execution_count": 15,
   "metadata": {},
   "outputs": [
    {
     "name": "stdout",
     "output_type": "stream",
     "text": [
      "Prediction\n",
      "    Image name:         sampled_mask_data/test/test3.jpg\n",
      "    Predicted class:      with_mask\n",
      "    Predicted score:      2.4717960357666016\n",
      "\n"
     ]
    },
    {
     "data": {
      "image/jpeg": "[encoded data removed]",
      "text/plain": [
       "<IPython.core.display.Image object>"
      ]
     },
     "execution_count": 15,
     "metadata": {},
     "output_type": "execute_result"
    }
   ],
   "source": [
    "img_name =  \"sampled_mask_data/test/test3.jpg\";\n",
    "predictions = gtf.Infer(img_name=img_name);\n",
    "\n",
    "#Display \n",
    "from IPython.display import Image\n",
    "Image(filename=img_name)"
   ]
  },
  {
   "cell_type": "code",
   "execution_count": null,
   "metadata": {},
   "outputs": [],
   "source": []
  },
  {
   "cell_type": "code",
   "execution_count": null,
   "metadata": {},
   "outputs": [],
   "source": []
  },
  {
   "cell_type": "code",
   "execution_count": 16,
   "metadata": {},
   "outputs": [
    {
     "name": "stdout",
     "output_type": "stream",
     "text": [
      "Prediction\n",
      "    Image name:         sampled_mask_data/test/test4.jpg\n",
      "    Predicted class:      with_mask\n",
      "    Predicted score:      3.4495508670806885\n",
      "\n"
     ]
    },
    {
     "data": {
      "image/jpeg": "[encoded data removed]",
      "text/plain": [
       "<IPython.core.display.Image object>"
      ]
     },
     "execution_count": 16,
     "metadata": {},
     "output_type": "execute_result"
    }
   ],
   "source": [
    "img_name =  \"sampled_mask_data/test/test4.jpg\";\n",
    "predictions = gtf.Infer(img_name=img_name);\n",
    "\n",
    "#Display \n",
    "from IPython.display import Image\n",
    "Image(filename=img_name)"
   ]
  },
  {
   "cell_type": "code",
   "execution_count": null,
   "metadata": {},
   "outputs": [],
   "source": []
  },
  {
   "cell_type": "code",
   "execution_count": null,
   "metadata": {},
   "outputs": [],
   "source": []
  }
 ],
 "metadata": {
  "kernelspec": {
   "display_name": "Python 3",
   "language": "python",
   "name": "python3"
  },
  "language_info": {
   "codemirror_mode": {
    "name": "ipython",
    "version": 3
   },
   "file_extension": ".py",
   "mimetype": "text/x-python",
   "name": "python",
   "nbconvert_exporter": "python",
   "pygments_lexer": "ipython3",
   "version": "3.6.9"
  }
 },
 "nbformat": 4,
 "nbformat_minor": 2
}
