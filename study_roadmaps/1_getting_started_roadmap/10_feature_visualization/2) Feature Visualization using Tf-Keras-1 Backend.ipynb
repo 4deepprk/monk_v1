{
 "cells": [
  {
   "cell_type": "markdown",
   "metadata": {
    "colab_type": "text",
    "id": "view-in-github"
   },
   "source": [
    "<a href=\"https://colab.research.google.com/github/Tessellate-Imaging/monk_v1/blob/master/study_roadmaps/1_getting_started_roadmap/10_feature_visualization/1)%20Feature%20Visualization%20using%20Mxnet-Gluon%20Backend.ipynb\" target=\"_parent\"><img src=\"https://colab.research.google.com/assets/colab-badge.svg\" alt=\"Open In Colab\"/></a>"
   ]
  },
  {
   "cell_type": "code",
   "execution_count": null,
   "metadata": {},
   "outputs": [],
   "source": []
  },
  {
   "cell_type": "code",
   "execution_count": null,
   "metadata": {},
   "outputs": [],
   "source": []
  },
  {
   "cell_type": "code",
   "execution_count": null,
   "metadata": {},
   "outputs": [],
   "source": []
  },
  {
   "cell_type": "markdown",
   "metadata": {},
   "source": [
    "# Table of Contents\n",
    "\n",
    "\n",
    "## [0. Install](#0)\n",
    "\n",
    "\n",
    "## [1. Importing tf1-keras backend](#1)\n",
    "\n",
    "\n",
    "## [2. Creating and Managing experiments](#2)\n",
    "\n",
    "\n",
    "## [3. Training a Cat Vs Dog image classifier](#3)\n",
    "\n",
    "\n",
    "## [4. Visualizing trained Kernels](#4)\n",
    "\n",
    "\n",
    "## [5. Visualize features with image input](#5)"
   ]
  },
  {
   "cell_type": "code",
   "execution_count": null,
   "metadata": {},
   "outputs": [],
   "source": []
  },
  {
   "cell_type": "code",
   "execution_count": null,
   "metadata": {},
   "outputs": [],
   "source": []
  },
  {
   "cell_type": "markdown",
   "metadata": {},
   "source": [
    "<a id='0'></a>\n",
    "# Install Monk\n",
    "  \n",
    " - git clone https://github.com/Tessellate-Imaging/monk_v1.git\n",
    " \n",
    " - cd monk_v1/installation/Linux && pip install -r requirements_cu9.txt\n",
    "     - (Select the requirements file as per OS and CUDA version)"
   ]
  },
  {
   "cell_type": "code",
   "execution_count": null,
   "metadata": {},
   "outputs": [],
   "source": [
    "!git clone https://github.com/Tessellate-Imaging/monk_v1.git"
   ]
  },
  {
   "cell_type": "code",
   "execution_count": null,
   "metadata": {},
   "outputs": [],
   "source": [
    "# If using Colab install using the commands below\n",
    "!cd monk_v1/installation/Misc && pip install -r requirements_colab.txt\n",
    "\n",
    "# If using Kaggle uncomment the following command\n",
    "#!cd monk_v1/installation/Misc && pip install -r requirements_kaggle.txt\n",
    "\n",
    "# Select the requirements file as per OS and CUDA version when using a local system or cloud\n",
    "#!cd monk_v1/installation/Linux && pip install -r requirements_cu9.txt"
   ]
  },
  {
   "cell_type": "code",
   "execution_count": null,
   "metadata": {},
   "outputs": [],
   "source": []
  },
  {
   "cell_type": "code",
   "execution_count": null,
   "metadata": {},
   "outputs": [],
   "source": []
  },
  {
   "cell_type": "code",
   "execution_count": null,
   "metadata": {},
   "outputs": [],
   "source": []
  },
  {
   "cell_type": "markdown",
   "metadata": {},
   "source": [
    "<a id='1'></a>\n",
    "# Imports"
   ]
  },
  {
   "cell_type": "code",
   "execution_count": null,
   "metadata": {},
   "outputs": [],
   "source": [
    "# Monk\n",
    "import os\n",
    "import sys\n",
    "sys.path.append(\"monk_v1/monk/\");"
   ]
  },
  {
   "cell_type": "code",
   "execution_count": null,
   "metadata": {},
   "outputs": [],
   "source": [
    "#Using keras backend \n",
    "from keras_prototype import prototype"
   ]
  },
  {
   "cell_type": "code",
   "execution_count": null,
   "metadata": {},
   "outputs": [],
   "source": []
  },
  {
   "cell_type": "code",
   "execution_count": null,
   "metadata": {},
   "outputs": [],
   "source": []
  },
  {
   "cell_type": "code",
   "execution_count": null,
   "metadata": {},
   "outputs": [],
   "source": []
  },
  {
   "cell_type": "markdown",
   "metadata": {},
   "source": [
    "<a id='2'></a>\n",
    "# Creating and managing experiments\n",
    "    - Provide project name\n",
    "    - Provide experiment name\n",
    "    - For a specific data create a single project\n",
    "    - Inside each project multiple experiments can be created\n",
    "    - Every experiment can be have diferent hyper-parameters attached to it"
   ]
  },
  {
   "cell_type": "code",
   "execution_count": null,
   "metadata": {},
   "outputs": [],
   "source": [
    "gtf = prototype(verbose=1);\n",
    "gtf.Prototype(\"sample-project-1\", \"sample-experiment-1\");"
   ]
  },
  {
   "cell_type": "markdown",
   "metadata": {},
   "source": [
    "### This creates files and directories as per the following structure\n",
    "    \n",
    "    \n",
    "    workspace\n",
    "        |\n",
    "        |--------sample-project-1 (Project name can be different)\n",
    "                        |\n",
    "                        |\n",
    "                        |-----sample-experiment-1 (Experiment name can be different)\n",
    "                                    |\n",
    "                                    |-----experiment-state.json\n",
    "                                    |\n",
    "                                    |-----output\n",
    "                                            |\n",
    "                                            |------logs (All training logs and graphs saved here)\n",
    "                                            |\n",
    "                                            |------models (all trained models saved here)\n",
    "                                    "
   ]
  },
  {
   "cell_type": "code",
   "execution_count": null,
   "metadata": {},
   "outputs": [],
   "source": []
  },
  {
   "cell_type": "code",
   "execution_count": null,
   "metadata": {},
   "outputs": [],
   "source": []
  },
  {
   "cell_type": "markdown",
   "metadata": {},
   "source": [
    "<a id='2'></a>\n",
    "# Training a Cat Vs Dog image classifier"
   ]
  },
  {
   "cell_type": "code",
   "execution_count": null,
   "metadata": {},
   "outputs": [],
   "source": []
  },
  {
   "cell_type": "markdown",
   "metadata": {},
   "source": [
    "## Quick mode training\n",
    "\n",
    "    - Using Default Function\n",
    "        - dataset_path\n",
    "        - model_name\n",
    "        - num_epochs\n",
    "        \n",
    "        \n",
    "## Dataset folder structure\n",
    "\n",
    "    parent_directory\n",
    "        |\n",
    "        |\n",
    "        |------cats\n",
    "                |\n",
    "                |------img1.jpg\n",
    "                |------img2.jpg\n",
    "                |------.... (and so on)\n",
    "        |------dogs\n",
    "                |\n",
    "                |------img1.jpg\n",
    "                |------img2.jpg\n",
    "                |------.... (and so on)     "
   ]
  },
  {
   "cell_type": "code",
   "execution_count": null,
   "metadata": {},
   "outputs": [],
   "source": [
    "gtf.Default(dataset_path=\"monk_v1/monk/system_check_tests/datasets/dataset_cats_dogs_train\", \n",
    "            model_name=\"resnet50\", \n",
    "            num_epochs=5);\n",
    "\n",
    "#Read the summary generated once you run this cell. "
   ]
  },
  {
   "cell_type": "code",
   "execution_count": null,
   "metadata": {},
   "outputs": [],
   "source": [
    "#Start Training\n",
    "gtf.Train();\n",
    "\n",
    "#Read the training summary generated once you run the cell and training is completed"
   ]
  },
  {
   "cell_type": "markdown",
   "metadata": {},
   "source": []
  },
  {
   "cell_type": "code",
   "execution_count": null,
   "metadata": {},
   "outputs": [],
   "source": []
  },
  {
   "cell_type": "code",
   "execution_count": null,
   "metadata": {},
   "outputs": [],
   "source": []
  },
  {
   "cell_type": "markdown",
   "metadata": {},
   "source": [
    "<a id='4'></a>\n",
    "# Visualizing trained kernels"
   ]
  },
  {
   "cell_type": "code",
   "execution_count": null,
   "metadata": {},
   "outputs": [],
   "source": [
    "gtf.Visualize_Kernels();"
   ]
  },
  {
   "cell_type": "code",
   "execution_count": null,
   "metadata": {},
   "outputs": [],
   "source": []
  },
  {
   "cell_type": "code",
   "execution_count": null,
   "metadata": {},
   "outputs": [],
   "source": []
  },
  {
   "cell_type": "code",
   "execution_count": null,
   "metadata": {},
   "outputs": [],
   "source": []
  },
  {
   "cell_type": "code",
   "execution_count": null,
   "metadata": {},
   "outputs": [],
   "source": []
  },
  {
   "cell_type": "code",
   "execution_count": null,
   "metadata": {},
   "outputs": [],
   "source": []
  },
  {
   "cell_type": "code",
   "execution_count": null,
   "metadata": {},
   "outputs": [],
   "source": []
  },
  {
   "cell_type": "code",
   "execution_count": null,
   "metadata": {},
   "outputs": [],
   "source": []
  },
  {
   "cell_type": "markdown",
   "metadata": {},
   "source": [
    "<a id='4'></a>\n",
    "# Visualizing features extracted from images"
   ]
  },
  {
   "cell_type": "code",
   "execution_count": null,
   "metadata": {},
   "outputs": [],
   "source": [
    "gtf.Visualize_Feature_Maps(\"monk_v1/monk/system_check_tests/datasets/dataset_cats_dogs_test/1.jpg\")"
   ]
  },
  {
   "cell_type": "code",
   "execution_count": null,
   "metadata": {},
   "outputs": [],
   "source": []
  },
  {
   "cell_type": "code",
   "execution_count": null,
   "metadata": {},
   "outputs": [],
   "source": []
  },
  {
   "cell_type": "code",
   "execution_count": null,
   "metadata": {},
   "outputs": [],
   "source": []
  },
  {
   "cell_type": "code",
   "execution_count": null,
   "metadata": {},
   "outputs": [],
   "source": []
  },
  {
   "cell_type": "code",
   "execution_count": null,
   "metadata": {},
   "outputs": [],
   "source": []
  }
 ],
 "metadata": {
  "kernelspec": {
   "display_name": "Python 3",
   "language": "python",
   "name": "python3"
  },
  "language_info": {
   "codemirror_mode": {
    "name": "ipython",
    "version": 3
   },
   "file_extension": ".py",
   "mimetype": "text/x-python",
   "name": "python",
   "nbconvert_exporter": "python",
   "pygments_lexer": "ipython3",
   "version": "3.6.9"
  }
 },
 "nbformat": 4,
 "nbformat_minor": 2
}
